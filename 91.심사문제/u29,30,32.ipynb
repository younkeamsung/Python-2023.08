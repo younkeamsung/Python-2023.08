{
 "cells": [
  {
   "cell_type": "markdown",
   "metadata": {},
   "source": [
    "# 심사문제 29.4"
   ]
  },
  {
   "cell_type": "markdown",
   "metadata": {},
   "source": [
    "표준 입력으로 숫자 두 개가 입력됩니다. 다음 소스 코드를 완성하여 두 숫자의 덧셈, 뺄셈, 곱셈, 나눗셈의 결과가 출력되게 만드세요. 이때 나눗셈의 결과는 실수라야 합니다."
   ]
  },
  {
   "cell_type": "code",
   "execution_count": 8,
   "metadata": {},
   "outputs": [
    {
     "name": "stdout",
     "output_type": "stream",
     "text": [
      "덧셈: 48, 뺄셈: 32, 곱셈: 320, 나눗셈: 5.0\n"
     ]
    }
   ],
   "source": [
    "x, y = map(int,input().split())\n",
    "def calc(x, y):\n",
    "    return x + y, x - y, x * y, float (x / y)\n",
    "\n",
    "a, s, m, d = calc(x, y)\n",
    "print('덧셈: {0}, 뺄셈: {1}, 곱셈: {2}, 나눗셈: {3}'.format(a, s, m, d))"
   ]
  },
  {
   "cell_type": "markdown",
   "metadata": {},
   "source": [
    "## 심사문제 30.7"
   ]
  },
  {
   "cell_type": "markdown",
   "metadata": {},
   "source": [
    "표준 입력으로 국어, 영어, 수학, 과학 점수가 입력됩니다. 다음 소스 코드를 완성하여 가장 높은 점수, 가장 낮은 점수, 평균 점수가 출력되게 만드세요. 평균 점수는 실수로 출력되어야 합니다."
   ]
  },
  {
   "cell_type": "code",
   "execution_count": 2,
   "metadata": {},
   "outputs": [],
   "source": [
    "kor, eng, mat, sci = map(int, input().split())\n",
    "#args로 값을 받아서 min,max함수로 만듬\n",
    "def get_min_max_score(*args):\n",
    "    return min(args), max(args)\n",
    "# avg는 kwargs로 불러들여 리스트는 별하나 딕셔너리는 별두개\n",
    "def get_average(**kwargs):\n",
    "    return sum(kwargs.values())/len(kwargs)\n",
    "\n"
   ]
  },
  {
   "cell_type": "code",
   "execution_count": 3,
   "metadata": {},
   "outputs": [
    {
     "name": "stdout",
     "output_type": "stream",
     "text": [
      "낮은 점수: 50.00, 높은 점수: 90.00, 평균 점수: 72.50\n",
      "낮은 점수: 80.00, 높은 점수: 90.00, 평균 점수: 85.00\n"
     ]
    }
   ],
   "source": [
    "min_score, max_score = get_min_max_score(kor, eng, mat, sci)\n",
    "average_score = get_average(kor=kor, eng=eng,\n",
    "                            mat=mat, sci=sci)\n",
    "# .2f = 두번째 소수자리까지 출력\n",
    "print('낮은 점수: {0:.2f}, 높은 점수: {1:.2f}, 평균 점수: {2:.2f}'\n",
    "      .format(min_score, max_score, average_score))\n",
    " \n",
    "min_score, max_score = get_min_max_score(eng, sci)\n",
    "average_score = get_average(eng=eng, sci=sci)\n",
    "print('낮은 점수: {0:.2f}, 높은 점수: {1:.2f}, 평균 점수: {2:.2f}'\n",
    "      .format(min_score, max_score, average_score))"
   ]
  },
  {
   "cell_type": "markdown",
   "metadata": {},
   "source": [
    "## 심사문제 32.5"
   ]
  },
  {
   "cell_type": "markdown",
   "metadata": {},
   "source": [
    "표준 입력으로 숫자.확장자 형식으로 된 파일 이름 여러 개가 입력됩니다. 다음 소스 코드를 완성하여 파일 이름이 숫자 3개이면서 앞에 0이 들어가는 형식으로 출력되게 만드세요. 예를 들어 1.png는 001.png, 99.docx는 099.docx, 100.xlsx는 100.xlsx처럼 출력되어야 합니다. 그리고 람다 표현식을 사용해야 하며 출력 결과는 리스트 형태라야 합니다. 람다 표현식에서 파일명을 처리할 때는 문자열 포매팅과 문자열 메서드를 활용하세요."
   ]
  },
  {
   "cell_type": "code",
   "execution_count": 4,
   "metadata": {},
   "outputs": [
    {
     "name": "stdout",
     "output_type": "stream",
     "text": [
      "['001.jpg', '010.png', '011.png', '002.jpg', '003.png']\n"
     ]
    }
   ],
   "source": [
    "files = input().split()\n",
    " \n",
    "print(list(map(lambda x:'{0:03d}.{1}'.format(int(x.split('.')[0]),x.split('.')[1]),files)))"
   ]
  },
  {
   "cell_type": "code",
   "execution_count": 4,
   "metadata": {},
   "outputs": [
    {
     "name": "stdout",
     "output_type": "stream",
     "text": [
      "001.jpg\n"
     ]
    }
   ],
   "source": [
    "filename = '1.jpg'\n",
    "num = int(filename.split('.')[0])\n",
    "ext = filename.split('.')[-1]\n",
    "print(f'{num:03d}.{ext}')"
   ]
  },
  {
   "cell_type": "code",
   "execution_count": 9,
   "metadata": {},
   "outputs": [
    {
     "name": "stdout",
     "output_type": "stream",
     "text": [
      "['001.png', '010.jpg', '099.docx', '101.gif']\n"
     ]
    }
   ],
   "source": [
    "# files = ['1.png', '10.jpg', '99.docx','101.gif ]\n",
    "files = input().split()\n",
    "print(list(map(lambda x: f\"{int(x.split('.')[0]):03d}.{x.split('.')[1]}\", files)))"
   ]
  },
  {
   "cell_type": "code",
   "execution_count": null,
   "metadata": {},
   "outputs": [],
   "source": []
  }
 ],
 "metadata": {
  "kernelspec": {
   "display_name": "base",
   "language": "python",
   "name": "python3"
  },
  "language_info": {
   "codemirror_mode": {
    "name": "ipython",
    "version": 3
   },
   "file_extension": ".py",
   "mimetype": "text/x-python",
   "name": "python",
   "nbconvert_exporter": "python",
   "pygments_lexer": "ipython3",
   "version": "3.11.4"
  },
  "orig_nbformat": 4
 },
 "nbformat": 4,
 "nbformat_minor": 2
}
