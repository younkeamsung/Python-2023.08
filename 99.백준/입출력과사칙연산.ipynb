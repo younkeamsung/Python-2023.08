{
 "cells": [
  {
   "cell_type": "markdown",
   "metadata": {},
   "source": [
    "- 2588"
   ]
  },
  {
   "cell_type": "code",
   "execution_count": 2,
   "metadata": {},
   "outputs": [
    {
     "name": "stdout",
     "output_type": "stream",
     "text": [
      "3: 2360\n",
      "4: 3776\n",
      "5: 1416\n",
      "6: 181720\n"
     ]
    }
   ],
   "source": [
    "m, n = map(int, input().split())\n",
    "# 3\n",
    "print(f'3: {m * ((n // 1 ) % 10)}')     # (n // 10 ** 0) % 10\n",
    "print(f'4: {m * ((n // 10) % 10)}')     # (n // 10 ** 1) % 10\n",
    "print(f'5: {m * ((n // 100) % 10)}')    # (n // 10 ** 2) % 10\n",
    "print(f'6: {m * n}')"
   ]
  },
  {
   "cell_type": "code",
   "execution_count": 36,
   "metadata": {},
   "outputs": [
    {
     "name": "stdout",
     "output_type": "stream",
     "text": [
      "2360\n",
      "3776\n",
      "1416\n",
      "181720\n"
     ]
    }
   ],
   "source": [
    "a = int(input())\n",
    "b = input()\n",
    "\n",
    "print(a*int(b[2]))\n",
    "print(a*int(b[1]))\n",
    "print(a*int(b[0]))\n",
    "print(a*int(b))"
   ]
  },
  {
   "cell_type": "markdown",
   "metadata": {},
   "source": [
    "- 25304"
   ]
  },
  {
   "cell_type": "code",
   "execution_count": 3,
   "metadata": {},
   "outputs": [],
   "source": [
    "X = int(input())    # 260000\n",
    "N = int(input())    # 4\n",
    "receipt = []\n",
    "for i in range(N):\n",
    "    a, b = map(int,input().split())\n",
    "    receipt.append((a, b))"
   ]
  },
  {
   "cell_type": "code",
   "execution_count": 4,
   "metadata": {},
   "outputs": [
    {
     "data": {
      "text/plain": [
       "[(20000, 5), (30000, 2), (10000, 6), (5000, 8)]"
      ]
     },
     "execution_count": 4,
     "metadata": {},
     "output_type": "execute_result"
    }
   ],
   "source": [
    "receipt"
   ]
  },
  {
   "cell_type": "code",
   "execution_count": 5,
   "metadata": {},
   "outputs": [
    {
     "name": "stdout",
     "output_type": "stream",
     "text": [
      "260000\n"
     ]
    }
   ],
   "source": [
    "costco_sum = 0\n",
    "for a, b in receipt:\n",
    "    costco_sum += a * b\n",
    "print(costco_sum)"
   ]
  },
  {
   "cell_type": "code",
   "execution_count": 37,
   "metadata": {},
   "outputs": [
    {
     "name": "stdout",
     "output_type": "stream",
     "text": [
      "Yes\n"
     ]
    }
   ],
   "source": [
    "x = int(input())            # 총금액    \n",
    "n = int(input())            # 물건개수\n",
    "sum = 0\n",
    "for i in range(n):\n",
    "  price, cnt = map(int, input().split())\n",
    "  sum += (price*cnt)\n",
    "\n",
    "if x == sum:\n",
    "  print(\"Yes\")\n",
    "else:\n",
    "  print(\"No\")\n"
   ]
  },
  {
   "cell_type": "markdown",
   "metadata": {},
   "source": [
    "- 2562"
   ]
  },
  {
   "cell_type": "code",
   "execution_count": 7,
   "metadata": {},
   "outputs": [
    {
     "name": "stdout",
     "output_type": "stream",
     "text": [
      "index=7, 8번째 값, 85\n"
     ]
    }
   ],
   "source": [
    "c = [3, 29, 38, 12, 57, 74, 40, 85, 61]\n",
    "cmax, cindex = 0, 0\n",
    "for index, element in enumerate(c):\n",
    "    if cmax < element:\n",
    "        cmax = element\n",
    "        cindex = index\n",
    "print(f'index={cindex}, {cindex+1}번째 값, {cmax}')"
   ]
  },
  {
   "cell_type": "code",
   "execution_count": 65,
   "metadata": {},
   "outputs": [
    {
     "name": "stdout",
     "output_type": "stream",
     "text": [
      "85\n",
      "8\n"
     ]
    }
   ],
   "source": [
    "a = []\n",
    "for i in range(9):\n",
    "    x = int(input())\n",
    "    a.append(x)\n",
    "print(max(a))\n",
    "print(a.index(max(a))+1)\n"
   ]
  },
  {
   "cell_type": "markdown",
   "metadata": {},
   "source": [
    "- 2675"
   ]
  },
  {
   "cell_type": "code",
   "execution_count": 9,
   "metadata": {},
   "outputs": [
    {
     "name": "stdout",
     "output_type": "stream",
     "text": [
      "[['3', 'ABC'], ['5', '/HTP']]\n"
     ]
    }
   ],
   "source": [
    "T = int(input())\n",
    "test_case = []\n",
    "for _ in range(T):\n",
    "    cmd = input().split()\n",
    "    R = int(cmd[0])\n",
    "    test_case.append(cmd)\n",
    "print(test_case)"
   ]
  },
  {
   "cell_type": "code",
   "execution_count": 13,
   "metadata": {},
   "outputs": [
    {
     "name": "stdout",
     "output_type": "stream",
     "text": [
      "AAABBBCCC\n",
      "/////HHHHHTTTTTPPPPP\n"
     ]
    }
   ],
   "source": [
    "for R, S in test_case:\n",
    "    result = ''\n",
    "    r = int(R)\n",
    "    for s in S:\n",
    "        result += s * r\n",
    "    print(result)"
   ]
  },
  {
   "cell_type": "markdown",
   "metadata": {},
   "source": [
    "- 10809"
   ]
  },
  {
   "cell_type": "code",
   "execution_count": 14,
   "metadata": {},
   "outputs": [
    {
     "name": "stdout",
     "output_type": "stream",
     "text": [
      "{'a': -1, 'b': -1, 'c': -1, 'd': -1, 'e': -1, 'f': -1, 'g': -1, 'h': -1, 'i': -1, 'j': -1, 'k': -1, 'l': -1, 'm': -1, 'n': -1, 'o': -1, 'p': -1, 'q': -1, 'r': -1, 's': -1, 't': -1, 'u': -1, 'v': -1, 'w': -1, 'x': -1, 'y': -1, 'z': -1}\n"
     ]
    }
   ],
   "source": [
    "char_dict = {}\n",
    "for i in range(26):\n",
    "    c = chr(ord('a') + i)\n",
    "    char_dict[c] = -1\n",
    "print(char_dict)"
   ]
  },
  {
   "cell_type": "code",
   "execution_count": 15,
   "metadata": {},
   "outputs": [
    {
     "name": "stdout",
     "output_type": "stream",
     "text": [
      "1 0 -1 -1 2 -1 -1 -1 -1 4 3 -1 -1 7 5 -1 -1 -1 -1 -1 -1 -1 -1 -1 -1 -1 "
     ]
    }
   ],
   "source": [
    "word = 'baekjoon'\n",
    "for i in range(26):\n",
    "    c = chr(ord('a') + i)\n",
    "    print(word.find(c), end=' ')"
   ]
  },
  {
   "cell_type": "code",
   "execution_count": 16,
   "metadata": {},
   "outputs": [
    {
     "name": "stdout",
     "output_type": "stream",
     "text": [
      "{'a': 0, 'b': 8, 'c': 5, 'd': -1, 'e': -1, 'f': 14, 'g': -1, 'h': -1, 'i': 4, 'j': -1, 'k': 6, 'l': -1, 'm': -1, 'n': 12, 'o': 10, 'p': -1, 'q': 2, 'r': 9, 's': -1, 't': -1, 'u': 3, 'v': -1, 'w': 11, 'x': 16, 'y': -1, 'z': -1}\n"
     ]
    }
   ],
   "source": [
    "char_dict = {}\n",
    "word = 'a quick brown fox'\n",
    "for i in range(26):\n",
    "    c = chr(ord('a') + i)\n",
    "    char_dict[c] = word.find(c)     # find()는 찾는 문자열이 없으면 -1을 리턴함\n",
    "print(char_dict)"
   ]
  },
  {
   "cell_type": "markdown",
   "metadata": {},
   "source": [
    "- 2908"
   ]
  },
  {
   "cell_type": "code",
   "execution_count": 17,
   "metadata": {},
   "outputs": [
    {
     "name": "stdout",
     "output_type": "stream",
     "text": [
      "734, 893: 437\n",
      "221, 231: 132\n",
      "839, 237: 938\n"
     ]
    }
   ],
   "source": [
    "for i in range(3):\n",
    "    m, n = input().split()\n",
    "    m_, n_ = int(m[::-1]), int(n[::-1])\n",
    "    max_val = m_ if m_ >= n_ else n_\n",
    "    print(f'{m}, {n}: {max_val}')   "
   ]
  },
  {
   "cell_type": "code",
   "execution_count": null,
   "metadata": {},
   "outputs": [],
   "source": [
    "a, b = map(int,input().split())\n",
    "ra = int(str(a)[::-1])\n",
    "rb = int(str(b)[::-1])\n",
    "if ra > rb:\n",
    "    print(ra)\n",
    "else:\n",
    "    print(rb)"
   ]
  },
  {
   "cell_type": "markdown",
   "metadata": {},
   "source": [
    "- 3003"
   ]
  },
  {
   "cell_type": "code",
   "execution_count": 18,
   "metadata": {},
   "outputs": [
    {
     "name": "stdout",
     "output_type": "stream",
     "text": [
      "-1 1 -2 1 -1 3 "
     ]
    }
   ],
   "source": [
    "# king, queen, rook, bishop, knight, pawn\n",
    "chess_pieces = [1, 1, 2, 2, 2, 8]\n",
    "pieces = list(map(int, input().split()))\n",
    "for i in range(len(chess_pieces)):\n",
    "    print(chess_pieces[i] - pieces[i], end=' ')"
   ]
  },
  {
   "cell_type": "markdown",
   "metadata": {},
   "source": [
    "- 2444"
   ]
  },
  {
   "cell_type": "code",
   "execution_count": 21,
   "metadata": {},
   "outputs": [
    {
     "name": "stdout",
     "output_type": "stream",
     "text": [
      "    *\n",
      "   ***\n",
      "  *****\n",
      " *******\n",
      "*********\n",
      " *******\n",
      "  *****\n",
      "   ***\n",
      "    *\n"
     ]
    }
   ],
   "source": [
    "N = 5\n",
    "for i in range(N):\n",
    "    line = ' ' * (N - i - 1) + '*' * (2 * i + 1)\n",
    "    print(line)\n",
    "for i in range(1, N):\n",
    "    line = ' ' * i + '*' * (2 * (N - i) - 1)\n",
    "    print(line)"
   ]
  },
  {
   "cell_type": "markdown",
   "metadata": {},
   "source": [
    "- 1157"
   ]
  },
  {
   "cell_type": "code",
   "execution_count": 22,
   "metadata": {},
   "outputs": [
    {
     "name": "stdout",
     "output_type": "stream",
     "text": [
      "{'a': 2, 'b': 1, 'c': 1, 'd': 1, 'e': 2, 'f': 1, 'g': 1, 'h': 1, 'i': 1, 'j': 1, 'k': 1, 'l': 1, 'm': 1, 'n': 1, 'o': 4, 'p': 1, 'q': 1, 'r': 2, 's': 1, 't': 1, 'u': 2, 'v': 1, 'w': 1, 'x': 1, 'y': 1, 'z': 1}\n"
     ]
    }
   ],
   "source": [
    "alpha_dict = {}\n",
    "string = 'A quick brown fox jumps over the lazy dog'\n",
    "for i in range(26):\n",
    "    c = chr(ord('a') + i)\n",
    "    alpha_dict[c] = string.lower().count(c)\n",
    "print(alpha_dict)"
   ]
  },
  {
   "cell_type": "code",
   "execution_count": 23,
   "metadata": {},
   "outputs": [
    {
     "data": {
      "text/plain": [
       "[('o', 4), ('a', 2), ('e', 2), ('r', 2), ('u', 2)]"
      ]
     },
     "execution_count": 23,
     "metadata": {},
     "output_type": "execute_result"
    }
   ],
   "source": [
    "alpha_items = list(alpha_dict.items())\n",
    "alpha_items.sort(key=lambda x: x[1], reverse=True)\n",
    "alpha_items[:5]"
   ]
  },
  {
   "cell_type": "markdown",
   "metadata": {},
   "source": [
    "- 2738"
   ]
  },
  {
   "cell_type": "code",
   "execution_count": 27,
   "metadata": {},
   "outputs": [
    {
     "name": "stdout",
     "output_type": "stream",
     "text": [
      "4 4 4 \n",
      "6 6 6 \n",
      "5 6 100 \n"
     ]
    }
   ],
   "source": [
    "A = [[1, 1, 1], [2, 2, 2], [0, 1, 0]]\n",
    "B = [[3, 3, 3], [4, 4, 4], [5, 5, 100]]\n",
    "C = []\n",
    "for i in range(len(A)):\n",
    "    temp = []\n",
    "    for k in range(len(A[i])):\n",
    "            temp.append(A[i][k] + B[i][k])\n",
    "    C.append(temp)\n",
    "    \n",
    "for i in range(len(C)):\n",
    "    for k in range(len(C[i])):\n",
    "        print(C[i][k], end=' ')\n",
    "    print()"
   ]
  },
  {
   "cell_type": "code",
   "execution_count": 28,
   "metadata": {},
   "outputs": [
    {
     "name": "stdout",
     "output_type": "stream",
     "text": [
      "4 4 4 \n",
      "6 6 6 \n",
      "5 6 100 \n"
     ]
    }
   ],
   "source": [
    "C = [[0, 0, 0], [0, 0, 0], [0, 0, 0]]\n",
    "for i in range(len(A)):\n",
    "    for k in range(len(A[i])):\n",
    "        C[i][k] = A[i][k] + B[i][k]\n",
    "    \n",
    "for i in range(len(C)):\n",
    "    for k in range(len(C[i])):\n",
    "        print(C[i][k], end=' ')\n",
    "    print()"
   ]
  },
  {
   "cell_type": "markdown",
   "metadata": {},
   "source": [
    "- Numpy를 사용해야 하는 이유"
   ]
  },
  {
   "cell_type": "code",
   "execution_count": 29,
   "metadata": {},
   "outputs": [
    {
     "name": "stdout",
     "output_type": "stream",
     "text": [
      "[[1 1 1]\n",
      " [2 2 2]\n",
      " [0 1 0]]\n"
     ]
    }
   ],
   "source": [
    "import numpy as np\n",
    "A = np.array([[1, 1, 1], [2, 2, 2], [0, 1, 0]])\n",
    "print(A)"
   ]
  },
  {
   "cell_type": "code",
   "execution_count": 30,
   "metadata": {},
   "outputs": [
    {
     "name": "stdout",
     "output_type": "stream",
     "text": [
      "[[  3   3   3]\n",
      " [  4   4   4]\n",
      " [  5   5 100]]\n"
     ]
    }
   ],
   "source": [
    "B = np.array([[3, 3, 3], [4, 4, 4], [5, 5, 100]])\n",
    "print(B)"
   ]
  },
  {
   "cell_type": "code",
   "execution_count": 31,
   "metadata": {},
   "outputs": [
    {
     "name": "stdout",
     "output_type": "stream",
     "text": [
      "[[  4   4   4]\n",
      " [  6   6   6]\n",
      " [  5   6 100]]\n"
     ]
    }
   ],
   "source": [
    "# 벡터화 연산\n",
    "C = A + B\n",
    "print(C)"
   ]
  },
  {
   "cell_type": "code",
   "execution_count": null,
   "metadata": {},
   "outputs": [],
   "source": []
  }
 ],
 "metadata": {
  "kernelspec": {
   "display_name": "base",
   "language": "python",
   "name": "python3"
  },
  "language_info": {
   "codemirror_mode": {
    "name": "ipython",
    "version": 3
   },
   "file_extension": ".py",
   "mimetype": "text/x-python",
   "name": "python",
   "nbconvert_exporter": "python",
   "pygments_lexer": "ipython3",
   "version": "3.11.4"
  },
  "orig_nbformat": 4
 },
 "nbformat": 4,
 "nbformat_minor": 2
}
