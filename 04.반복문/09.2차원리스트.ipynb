{
 "cells": [
  {
   "cell_type": "markdown",
   "metadata": {},
   "source": [
    "### 4.9 2차원 리스트"
   ]
  },
  {
   "cell_type": "code",
   "execution_count": 3,
   "metadata": {},
   "outputs": [
    {
     "data": {
      "text/plain": [
       "[[10, 20], [30, 40], [50, 60]]"
      ]
     },
     "execution_count": 3,
     "metadata": {},
     "output_type": "execute_result"
    }
   ],
   "source": [
    "a = [[10, 20],[30, 40], [50, 60]]\n",
    "a"
   ]
  },
  {
   "cell_type": "code",
   "execution_count": 4,
   "metadata": {},
   "outputs": [
    {
     "name": "stdout",
     "output_type": "stream",
     "text": [
      "[[10, 20],\n",
      " [30, 40],\n",
      " [50, 60]]\n"
     ]
    }
   ],
   "source": [
    "from pprint import pprint\n",
    "pprint(a, width=20)"
   ]
  },
  {
   "cell_type": "code",
   "execution_count": 5,
   "metadata": {},
   "outputs": [
    {
     "data": {
      "text/plain": [
       "array([[10, 20],\n",
       "       [30, 40],\n",
       "       [50, 60]])"
      ]
     },
     "execution_count": 5,
     "metadata": {},
     "output_type": "execute_result"
    }
   ],
   "source": [
    "import numpy as np\n",
    "b = np.arange(10, 61, 10).reshape(3, 2)\n",
    "b"
   ]
  },
  {
   "cell_type": "code",
   "execution_count": 6,
   "metadata": {},
   "outputs": [
    {
     "data": {
      "text/html": [
       "<div>\n",
       "<style scoped>\n",
       "    .dataframe tbody tr th:only-of-type {\n",
       "        vertical-align: middle;\n",
       "    }\n",
       "\n",
       "    .dataframe tbody tr th {\n",
       "        vertical-align: top;\n",
       "    }\n",
       "\n",
       "    .dataframe thead th {\n",
       "        text-align: right;\n",
       "    }\n",
       "</style>\n",
       "<table border=\"1\" class=\"dataframe\">\n",
       "  <thead>\n",
       "    <tr style=\"text-align: right;\">\n",
       "      <th></th>\n",
       "      <th>first</th>\n",
       "      <th>second</th>\n",
       "    </tr>\n",
       "  </thead>\n",
       "  <tbody>\n",
       "    <tr>\n",
       "      <th>0</th>\n",
       "      <td>10</td>\n",
       "      <td>20</td>\n",
       "    </tr>\n",
       "    <tr>\n",
       "      <th>1</th>\n",
       "      <td>30</td>\n",
       "      <td>40</td>\n",
       "    </tr>\n",
       "    <tr>\n",
       "      <th>2</th>\n",
       "      <td>50</td>\n",
       "      <td>60</td>\n",
       "    </tr>\n",
       "  </tbody>\n",
       "</table>\n",
       "</div>"
      ],
      "text/plain": [
       "   first  second\n",
       "0     10      20\n",
       "1     30      40\n",
       "2     50      60"
      ]
     },
     "execution_count": 6,
     "metadata": {},
     "output_type": "execute_result"
    }
   ],
   "source": [
    "import pandas as pd\n",
    "df = pd.DataFrame(b, columns=['first', 'second'])\n",
    "df"
   ]
  },
  {
   "cell_type": "markdown",
   "metadata": {},
   "source": [
    "- 인덱싱"
   ]
  },
  {
   "cell_type": "code",
   "execution_count": 7,
   "metadata": {},
   "outputs": [
    {
     "data": {
      "text/plain": [
       "(30, 30, 30)"
      ]
     },
     "execution_count": 7,
     "metadata": {},
     "output_type": "execute_result"
    }
   ],
   "source": [
    "# 30 numpy는 한괄호안에 , 로 구분해서 사용가능\n",
    "a[1][0], b[1,0], df['first'][1]"
   ]
  },
  {
   "cell_type": "markdown",
   "metadata": {},
   "source": [
    "- 2차원 리스트의 반복문"
   ]
  },
  {
   "cell_type": "code",
   "execution_count": 8,
   "metadata": {},
   "outputs": [
    {
     "name": "stdout",
     "output_type": "stream",
     "text": [
      "[10, 20]\n",
      "[30, 40]\n",
      "[50, 60]\n"
     ]
    }
   ],
   "source": [
    "for row in a:\n",
    "    print(row)"
   ]
  },
  {
   "cell_type": "code",
   "execution_count": 9,
   "metadata": {},
   "outputs": [
    {
     "data": {
      "text/plain": [
       "3"
      ]
     },
     "execution_count": 9,
     "metadata": {},
     "output_type": "execute_result"
    }
   ],
   "source": [
    "len(a)"
   ]
  },
  {
   "cell_type": "code",
   "execution_count": 12,
   "metadata": {},
   "outputs": [
    {
     "data": {
      "text/plain": [
       "[10, 20]"
      ]
     },
     "execution_count": 12,
     "metadata": {},
     "output_type": "execute_result"
    }
   ],
   "source": [
    "a[0]"
   ]
  },
  {
   "cell_type": "markdown",
   "metadata": {},
   "source": [
    "- 반복문으로 2차원 리스트 만들기"
   ]
  },
  {
   "cell_type": "code",
   "execution_count": 10,
   "metadata": {},
   "outputs": [
    {
     "name": "stdout",
     "output_type": "stream",
     "text": [
      "[[2, 6, 2, 1],\n",
      " [2, 2, 5, 4],\n",
      " [3, 6, 5, 4]]\n"
     ]
    }
   ],
   "source": [
    "# 주사위를 던져서 나오는 눈으로 만든 3 x 4 리스트\n",
    "import random\n",
    "outer_list = []\n",
    "for i in range(3):\n",
    "    inner_list = []\n",
    "    for k in range(4):\n",
    "        inner_list.append(random.randint(1, 6))\n",
    "    outer_list.append(inner_list)\n",
    "pprint(outer_list, width=20)\n"
   ]
  },
  {
   "cell_type": "markdown",
   "metadata": {},
   "source": [
    "- 밖에있는 리스트를 포문에 들어가기전에 만들고 안에있는 리스트를 포문으로 또 만들어서 \n",
    "둘다 어펜트 로 값을 넣어준다"
   ]
  },
  {
   "cell_type": "code",
   "execution_count": 11,
   "metadata": {},
   "outputs": [
    {
     "name": "stdout",
     "output_type": "stream",
     "text": [
      "[['.', '.', '.', '.', '.', '.', '.', '*'],\n",
      " ['.', '.', '.', '*', '.', '*', '.', '*'],\n",
      " ['.', '.', '.', '.', '.', '*', '.', '.'],\n",
      " ['.', '.', '.', '.', '.', '.', '*', '.'],\n",
      " ['.', '.', '.', '.', '.', '*', '.', '.'],\n",
      " ['*', '.', '.', '*', '.', '.', '*', '.'],\n",
      " ['.', '.', '.', '.', '.', '*', '*', '.'],\n",
      " ['.', '.', '.', '.', '.', '.', '*', '.']]\n"
     ]
    }
   ],
   "source": [
    "# random() > 0.7 --> 지뢰(*), 아니면.\n",
    "# 8 X 8 크기\n",
    "mines = []\n",
    "for _ in range(8):\n",
    "    rows = []\n",
    "    for k in range(8):\n",
    "        if random.random() > 0.7:\n",
    "            rows.append('*')\n",
    "        else: \n",
    "            rows.append('.')\n",
    "    mines.append(rows)\n",
    "pprint(mines, width=80)"
   ]
  },
  {
   "cell_type": "markdown",
   "metadata": {},
   "source": [
    "- 표현식"
   ]
  },
  {
   "cell_type": "code",
   "execution_count": 12,
   "metadata": {},
   "outputs": [
    {
     "name": "stdout",
     "output_type": "stream",
     "text": [
      "[[4, 6, 5, 3],\n",
      " [2, 5, 4, 2],\n",
      " [4, 2, 2, 5]]\n"
     ]
    }
   ],
   "source": [
    "outer_list = []\n",
    "for i in range(3):\n",
    "    inner_list = [random.randint(1, 6) for k in range(4)]\n",
    "    outer_list.append(inner_list)\n",
    "pprint(outer_list, width=20)\n"
   ]
  },
  {
   "cell_type": "code",
   "execution_count": 13,
   "metadata": {},
   "outputs": [
    {
     "name": "stdout",
     "output_type": "stream",
     "text": [
      "[[5, 6, 2, 1],\n",
      " [4, 3, 5, 3],\n",
      " [5, 3, 2, 4]]\n"
     ]
    }
   ],
   "source": [
    "outer_list = [[random.randint(1, 6) for _ in range(4)] for _ in range(3)]\n",
    "pprint(outer_list, width=20)"
   ]
  },
  {
   "cell_type": "code",
   "execution_count": 14,
   "metadata": {},
   "outputs": [
    {
     "name": "stdout",
     "output_type": "stream",
     "text": [
      "[['*', '.', '.', '.', '.', '.', '.', '.'],\n",
      " ['*', '.', '.', '*', '.', '.', '*', '*'],\n",
      " ['*', '.', '.', '.', '.', '.', '*', '.'],\n",
      " ['.', '.', '.', '.', '.', '.', '.', '*'],\n",
      " ['*', '.', '.', '*', '*', '.', '.', '.'],\n",
      " ['*', '.', '.', '*', '*', '*', '.', '*'],\n",
      " ['.', '.', '.', '.', '.', '.', '.', '.'],\n",
      " ['.', '.', '.', '.', '*', '*', '.', '*']]\n"
     ]
    }
   ],
   "source": [
    "mines = []\n",
    "for _ in range(8):\n",
    "    rows = ['*' if random.random() > 0.7 else '.' for _ in range(8)]\n",
    "    mines.append(rows)\n",
    "pprint(mines, width=80)"
   ]
  },
  {
   "cell_type": "code",
   "execution_count": 15,
   "metadata": {},
   "outputs": [
    {
     "name": "stdout",
     "output_type": "stream",
     "text": [
      "[['.', '*', '.', '.', '.', '.', '.', '.'],\n",
      " ['.', '.', '*', '.', '.', '.', '.', '.'],\n",
      " ['.', '.', '.', '.', '.', '*', '.', '.'],\n",
      " ['.', '*', '*', '.', '.', '*', '.', '*'],\n",
      " ['*', '.', '.', '.', '.', '*', '.', '.'],\n",
      " ['.', '.', '*', '.', '.', '.', '.', '.'],\n",
      " ['.', '.', '*', '.', '.', '.', '*', '.'],\n",
      " ['.', '*', '*', '.', '.', '.', '*', '.']]\n"
     ]
    }
   ],
   "source": [
    "mines = [['*' if random.random() > 0.7 else '.' for _ in range(8)]for _ in range(8)]\n",
    "pprint(mines, width=80)"
   ]
  },
  {
   "cell_type": "code",
   "execution_count": 16,
   "metadata": {},
   "outputs": [
    {
     "name": "stdout",
     "output_type": "stream",
     "text": [
      ". * . . . . . . \n",
      ". . * . . . . . \n",
      ". . . . . * . . \n",
      ". * * . . * . * \n",
      "* . . . . * . . \n",
      ". . * . . . . . \n",
      ". . * . . . * . \n",
      ". * * . . . * . \n"
     ]
    }
   ],
   "source": [
    "for row in mines:\n",
    "    for elem in row:\n",
    "        print(elem, end=' ')\n",
    "    print()"
   ]
  },
  {
   "cell_type": "code",
   "execution_count": 17,
   "metadata": {},
   "outputs": [
    {
     "name": "stdout",
     "output_type": "stream",
     "text": [
      ". . . . . . . . . . \n",
      ". . * . . . . . . . \n",
      ". . . * . . . . . . \n",
      ". . . . . . * . . . \n",
      ". . * * . . * . * . \n",
      ". * . . . . * . . . \n",
      ". . . * . . . . . . \n",
      ". . . * . . . * . . \n",
      ". . * * . . . * . . \n",
      ". . . . . . . . . . \n"
     ]
    }
   ],
   "source": [
    "# mines --> pad_mines 로 변환\n",
    "# 윗줄\n",
    "# 가운데 8줄\n",
    "# 밑줄\n",
    "pad_mines = []\n",
    "top_line = ['.'] * 10\n",
    "pad_mines.append(top_line)\n",
    "for row in mines:\n",
    "    pad_row = ['.']\n",
    "    #for element in row:\n",
    "    #    pad_row.append(element)\n",
    "    pad_row.extend(row)\n",
    "    pad_row.append('.')\n",
    "    pad_mines.append(pad_row)\n",
    "pad_mines.append(top_line)\n",
    "\n",
    "for row in pad_mines:\n",
    "    for elem in row:\n",
    "        print(elem, end=' ')\n",
    "    print()"
   ]
  },
  {
   "cell_type": "code",
   "execution_count": null,
   "metadata": {},
   "outputs": [],
   "source": []
  }
 ],
 "metadata": {
  "kernelspec": {
   "display_name": "base",
   "language": "python",
   "name": "python3"
  },
  "language_info": {
   "codemirror_mode": {
    "name": "ipython",
    "version": 3
   },
   "file_extension": ".py",
   "mimetype": "text/x-python",
   "name": "python",
   "nbconvert_exporter": "python",
   "pygments_lexer": "ipython3",
   "version": "3.11.4"
  },
  "orig_nbformat": 4
 },
 "nbformat": 4,
 "nbformat_minor": 2
}
