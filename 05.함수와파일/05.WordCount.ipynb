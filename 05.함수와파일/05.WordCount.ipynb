{
 "cells": [
  {
   "cell_type": "markdown",
   "metadata": {},
   "source": [
    "### 파일의 단어 갯수 세기\n",
    "- 총 단어수\n",
    "- 고유 단어수\n",
    "- 가장 많이 사용된 단어 10개"
   ]
  },
  {
   "cell_type": "markdown",
   "metadata": {},
   "source": [
    "##### Step 1. 파일에서 데이터 읽기"
   ]
  },
  {
   "cell_type": "code",
   "execution_count": 3,
   "metadata": {},
   "outputs": [],
   "source": [
    "with open('data/lorem.txt') as file:\n",
    "    contents = file.read()"
   ]
  },
  {
   "cell_type": "markdown",
   "metadata": {},
   "source": [
    "##### Step 2. 구둣점 제거하고 소문자로 변경"
   ]
  },
  {
   "cell_type": "code",
   "execution_count": 4,
   "metadata": {},
   "outputs": [
    {
     "data": {
      "text/plain": [
       "'!\"#$%&\\'()*+,-./:;<=>?@[\\\\]^_`{|}~'"
      ]
     },
     "execution_count": 4,
     "metadata": {},
     "output_type": "execute_result"
    }
   ],
   "source": [
    "import string\n",
    "string.punctuation"
   ]
  },
  {
   "cell_type": "code",
   "execution_count": 5,
   "metadata": {},
   "outputs": [],
   "source": [
    "import re\n",
    "clean_contents = re.sub('[' + string.punctuation + ']', '', contents)\n",
    "clean_contents = clean_contents.lower()"
   ]
  },
  {
   "cell_type": "code",
   "execution_count": 6,
   "metadata": {},
   "outputs": [
    {
     "data": {
      "text/plain": [
       "'what is lorem ipsum\\nlorem ipsum is simply dummy text of the printing and typesetting industry \\nlorem ipsum has been the industrys standard dummy text ever since the 1500s when an unknown printer took a galley of type and scrambled it to make a type specimen book \\nit has survived not only five centuries but also the leap into electronic typesetting remaining essentially unchanged it was popularised in the 1960s with the release of letraset sheets containing lorem ipsum passages and more recently '"
      ]
     },
     "execution_count": 6,
     "metadata": {},
     "output_type": "execute_result"
    }
   ],
   "source": [
    "clean_contents[:500]"
   ]
  },
  {
   "cell_type": "markdown",
   "metadata": {},
   "source": [
    "##### Step 3. 리스트로 만들기"
   ]
  },
  {
   "cell_type": "code",
   "execution_count": 7,
   "metadata": {},
   "outputs": [
    {
     "data": {
      "text/plain": [
       "['Hello', 'World', 'Welcome', 'to', 'Python', 'World']"
      ]
     },
     "execution_count": 7,
     "metadata": {},
     "output_type": "execute_result"
    }
   ],
   "source": [
    "sentence = 'Hello World\\nWelcome to Python World'\n",
    "sentence.split()        # white space (blank, tab, newline) 기준으로 분할\n",
    "sentence.split()"
   ]
  },
  {
   "cell_type": "code",
   "execution_count": 8,
   "metadata": {},
   "outputs": [
    {
     "data": {
      "text/plain": [
       "['what', 'is', 'lorem', 'ipsum', 'lorem']"
      ]
     },
     "execution_count": 8,
     "metadata": {},
     "output_type": "execute_result"
    }
   ],
   "source": [
    "words = clean_contents.split()\n",
    "words[:5]"
   ]
  },
  {
   "cell_type": "code",
   "execution_count": 9,
   "metadata": {},
   "outputs": [
    {
     "name": "stdout",
     "output_type": "stream",
     "text": [
      "총 단어는 511 개 이고, 고유 단어는 256 개 입니다.\n"
     ]
    }
   ],
   "source": [
    "# 총 단어수\n",
    "print(f'총 단어는 {len(words):,d} 개 이고, 고유 단어는 {len(set(words))} 개 입니다.')"
   ]
  },
  {
   "cell_type": "markdown",
   "metadata": {},
   "source": [
    "##### Step 4. 고유단어가 key이고, 빈도가 value인 딕셔너리 만들기"
   ]
  },
  {
   "cell_type": "code",
   "execution_count": 10,
   "metadata": {},
   "outputs": [
    {
     "data": {
      "text/plain": [
       "256"
      ]
     },
     "execution_count": 10,
     "metadata": {},
     "output_type": "execute_result"
    }
   ],
   "source": [
    "word_dict = {}\n",
    "for word in words:\n",
    "    if word in word_dict.keys():        # word가 word_dict에 있으면\n",
    "        word_dict[word] += 1                # 빈도수 증가(+1)\n",
    "    else:                               # word가 word_dict에 없으면\n",
    "        word_dict[word] = 1                 # word_dict에 word 추가\n",
    "len(word_dict)"
   ]
  },
  {
   "cell_type": "markdown",
   "metadata": {},
   "source": [
    "##### Step 5. 빈도의 내림차순으로 정렬하기"
   ]
  },
  {
   "cell_type": "markdown",
   "metadata": {},
   "source": [
    "- 딕셔너리 리스트 정렬"
   ]
  },
  {
   "cell_type": "code",
   "execution_count": 12,
   "metadata": {},
   "outputs": [],
   "source": [
    "books = [\n",
    "    {'title': '파이썬', 'price': 10000},\n",
    "    {'title': '자바', 'price': 20000},\n",
    "    {'title': 'HTML', 'price': 15000}\n",
    "]\n"
   ]
  },
  {
   "cell_type": "code",
   "execution_count": 14,
   "metadata": {},
   "outputs": [],
   "source": [
    "# 책 제목의 오름차순 정렬\n",
    "books.sort(key=lambda x: x['title'])"
   ]
  },
  {
   "cell_type": "code",
   "execution_count": 15,
   "metadata": {},
   "outputs": [
    {
     "data": {
      "text/plain": [
       "[{'title': 'HTML', 'price': 15000},\n",
       " {'title': '자바', 'price': 20000},\n",
       " {'title': '파이썬', 'price': 10000}]"
      ]
     },
     "execution_count": 15,
     "metadata": {},
     "output_type": "execute_result"
    }
   ],
   "source": [
    "books"
   ]
  },
  {
   "cell_type": "code",
   "execution_count": 16,
   "metadata": {},
   "outputs": [
    {
     "data": {
      "text/plain": [
       "[{'title': '자바', 'price': 20000},\n",
       " {'title': 'HTML', 'price': 15000},\n",
       " {'title': '파이썬', 'price': 10000}]"
      ]
     },
     "execution_count": 16,
     "metadata": {},
     "output_type": "execute_result"
    }
   ],
   "source": [
    "# 책 가격의 내림차순 정렬\n",
    "books.sort(key=lambda x: x['price'], reverse=True)\n",
    "books"
   ]
  },
  {
   "cell_type": "markdown",
   "metadata": {},
   "source": [
    "- 튜플의 리스트 정렬\n",
    "    - 리스트의 리스트도 같음"
   ]
  },
  {
   "cell_type": "code",
   "execution_count": 20,
   "metadata": {},
   "outputs": [],
   "source": [
    "fruits = [('apple', 1500), ('banana', 1200), ('peach', 2000)]"
   ]
  },
  {
   "cell_type": "code",
   "execution_count": 21,
   "metadata": {},
   "outputs": [
    {
     "data": {
      "text/plain": [
       "[('apple', 1500), ('banana', 1200), ('peach', 2000)]"
      ]
     },
     "execution_count": 21,
     "metadata": {},
     "output_type": "execute_result"
    }
   ],
   "source": [
    "# 과일의 이름의 오름차순 정렬 \n",
    "fruits.sort(key=lambda x: x[0])\n",
    "fruits"
   ]
  },
  {
   "cell_type": "code",
   "execution_count": 22,
   "metadata": {},
   "outputs": [
    {
     "data": {
      "text/plain": [
       "[('peach', 2000), ('apple', 1500), ('banana', 1200)]"
      ]
     },
     "execution_count": 22,
     "metadata": {},
     "output_type": "execute_result"
    }
   ],
   "source": [
    "# 과일 가격의 내림차순 정렬\n",
    "fruits.sort(key=lambda x: x[1], reverse=True)\n",
    "fruits"
   ]
  },
  {
   "cell_type": "markdown",
   "metadata": {},
   "source": [
    "- word_dict를 빈도의 내림차순으로 정렬"
   ]
  },
  {
   "cell_type": "code",
   "execution_count": 24,
   "metadata": {},
   "outputs": [
    {
     "data": {
      "text/plain": [
       "dict_items([('what', 1), ('is', 8), ('lorem', 19), ('ipsum', 19), ('simply', 2), ('dummy', 2), ('text', 5), ('of', 21), ('the', 28), ('printing', 1), ('and', 10), ('typesetting', 2), ('industry', 1), ('has', 4), ('been', 1), ('industrys', 1), ('standard', 2), ('ever', 1), ('since', 2), ('1500s', 2), ('when', 2), ('an', 1), ('unknown', 1), ('printer', 1), ('took', 1), ('a', 15), ('galley', 1), ('type', 2), ('scrambled', 1), ('it', 11), ('to', 7), ('make', 1), ('specimen', 1), ('book', 2), ('survived', 1), ('not', 2), ('only', 1), ('five', 1), ('centuries', 1), ('but', 2), ('also', 2), ('leap', 1), ('into', 1), ('electronic', 1), ('remaining', 1), ('essentially', 1), ('unchanged', 1), ('was', 1), ('popularised', 1), ('in', 10), ('1960s', 1), ('with', 3), ('release', 1), ('letraset', 1), ('sheets', 1), ('containing', 1), ('passages', 2), ('more', 2), ('recently', 1), ('desktop', 2), ('publishing', 2), ('software', 1), ('like', 3), ('aldus', 1), ('pagemaker', 1), ('including', 1), ('versions', 3), ('why', 1), ('do', 1), ('we', 1), ('use', 3), ('long', 1), ('established', 1), ('fact', 1), ('that', 2), ('reader', 1), ('will', 2), ('be', 2), ('distracted', 1), ('by', 7), ('readable', 2), ('content', 3), ('page', 2), ('looking', 1), ('at', 2), ('its', 1), ('layout', 1), ('point', 1), ('using', 2), ('moreorless', 1), ('normal', 1), ('distribution', 1), ('letters', 1), ('as', 3), ('opposed', 1), ('here', 2), ('making', 3), ('look', 2), ('english', 2), ('many', 3), ('packages', 1), ('web', 2), ('editors', 1), ('now', 1), ('their', 3), ('default', 1), ('model', 2), ('search', 1), ('for', 2), ('uncover', 1), ('sites', 1), ('still', 1), ('infancy', 1), ('various', 1), ('have', 2), ('evolved', 1), ('over', 3), ('years', 2), ('sometimes', 2), ('accident', 1), ('on', 4), ('purpose', 1), ('injected', 3), ('humour', 3), ('where', 2), ('does', 1), ('come', 1), ('from', 8), ('contrary', 1), ('popular', 2), ('belief', 1), ('random', 1), ('roots', 1), ('piece', 1), ('classical', 2), ('latin', 4), ('literature', 2), ('45', 2), ('bc', 2), ('2000', 1), ('old', 1), ('richard', 1), ('mcclintock', 1), ('professor', 1), ('hampdensydney', 1), ('college', 1), ('virginia', 1), ('looked', 1), ('up', 1), ('one', 1), ('obscure', 1), ('words', 4), ('consectetur', 1), ('passage', 2), ('going', 2), ('through', 1), ('cites', 1), ('word', 1), ('discovered', 1), ('undoubtable', 1), ('source', 1), ('comes', 2), ('sections', 2), ('11032', 3), ('11033', 2), ('de', 2), ('finibus', 2), ('bonorum', 2), ('et', 2), ('malorum', 2), ('extremes', 1), ('good', 1), ('evil', 1), ('cicero', 2), ('written', 1), ('this', 2), ('treatise', 1), ('theory', 1), ('ethics', 1), ('very', 1), ('during', 1), ('renaissance', 1), ('first', 2), ('line', 2), ('dolor', 1), ('sit', 1), ('amet', 1), ('section', 1), ('chunk', 1), ('used', 1), ('reproduced', 2), ('below', 1), ('those', 1), ('interested', 1), ('are', 3), ('exact', 1), ('original', 1), ('form', 2), ('accompanied', 1), ('1914', 1), ('translation', 1), ('h', 1), ('rackham', 1), ('can', 1), ('i', 1), ('get', 1), ('some', 2), ('there', 2), ('variations', 1), ('available', 1), ('majority', 1), ('suffered', 1), ('alteration', 1), ('or', 2), ('randomised', 1), ('which', 2), ('dont', 1), ('even', 1), ('slightly', 1), ('believable', 1), ('if', 1), ('you', 2), ('need', 1), ('sure', 1), ('isnt', 1), ('anything', 1), ('embarrassing', 1), ('hidden', 1), ('middle', 1), ('all', 1), ('generators', 1), ('internet', 2), ('tend', 1), ('repeat', 1), ('predefined', 1), ('chunks', 1), ('necessary', 1), ('true', 1), ('generator', 1), ('uses', 1), ('dictionary', 1), ('200', 1), ('combined', 1), ('handful', 1), ('sentence', 1), ('structures', 1), ('generate', 1), ('looks', 1), ('reasonable', 1), ('generated', 1), ('therefore', 1), ('always', 1), ('free', 1), ('repetition', 1), ('noncharacteristic', 1), ('etc', 1)])"
      ]
     },
     "execution_count": 24,
     "metadata": {},
     "output_type": "execute_result"
    }
   ],
   "source": [
    "# 키(단어)값과 밸류(빈도)값이 같이 움직일 수 있도록 튜플의 리스트 만들기\n",
    "word_items = word_dict.items()\n",
    "word_items"
   ]
  },
  {
   "cell_type": "code",
   "execution_count": 27,
   "metadata": {},
   "outputs": [
    {
     "data": {
      "text/plain": [
       "[('what', 1),\n",
       " ('is', 8),\n",
       " ('lorem', 19),\n",
       " ('ipsum', 19),\n",
       " ('simply', 2),\n",
       " ('dummy', 2),\n",
       " ('text', 5),\n",
       " ('of', 21),\n",
       " ('the', 28),\n",
       " ('printing', 1)]"
      ]
     },
     "execution_count": 27,
     "metadata": {},
     "output_type": "execute_result"
    }
   ],
   "source": [
    "# 키(단어)값과 밸류(빈도)값이 같이 움직일 수 있도록 튜플의 리스트 만들기\n",
    "word_items = list(word_dict.items())\n",
    "word_items[:10]"
   ]
  },
  {
   "cell_type": "code",
   "execution_count": 28,
   "metadata": {},
   "outputs": [
    {
     "data": {
      "text/plain": [
       "[('the', 28),\n",
       " ('of', 21),\n",
       " ('lorem', 19),\n",
       " ('ipsum', 19),\n",
       " ('a', 15),\n",
       " ('it', 11),\n",
       " ('and', 10),\n",
       " ('in', 10),\n",
       " ('is', 8),\n",
       " ('from', 8)]"
      ]
     },
     "execution_count": 28,
     "metadata": {},
     "output_type": "execute_result"
    }
   ],
   "source": [
    "# 내림차순으로 정렬 후, 앞에서 10개의 데이터 - Top 10 빈도수 단어\n",
    "word_items.sort(key=lambda x: x[1], reverse=True)\n",
    "word_items[:10]"
   ]
  },
  {
   "cell_type": "code",
   "execution_count": null,
   "metadata": {},
   "outputs": [],
   "source": []
  }
 ],
 "metadata": {
  "kernelspec": {
   "display_name": "base",
   "language": "python",
   "name": "python3"
  },
  "language_info": {
   "codemirror_mode": {
    "name": "ipython",
    "version": 3
   },
   "file_extension": ".py",
   "mimetype": "text/x-python",
   "name": "python",
   "nbconvert_exporter": "python",
   "pygments_lexer": "ipython3",
   "version": "3.11.4"
  },
  "orig_nbformat": 4
 },
 "nbformat": 4,
 "nbformat_minor": 2
}
