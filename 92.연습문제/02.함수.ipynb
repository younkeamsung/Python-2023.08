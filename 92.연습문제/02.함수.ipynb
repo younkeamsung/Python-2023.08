{
 "cells": [
  {
   "cell_type": "markdown",
   "metadata": {},
   "source": [
    "#### Q1 완전수(Perfect Number)\n",
    "- 자기자신을 제외한 약수의 합이 자신과 같은 수 - 완전수\n",
    "- 2 ~ 10000 사이의 완전수를 찾으세요."
   ]
  },
  {
   "cell_type": "code",
   "execution_count": 4,
   "metadata": {},
   "outputs": [],
   "source": [
    "# 자기자신을 제외한 약수의 합을 반환하는 함수\n",
    "def sum_divisors(num):\n",
    "    div_list = []\n",
    "    for i in range(1, num):\n",
    "        if num % i == 0:\n",
    "            div_list.append(i)\n",
    "    return sum(div_list)"
   ]
  },
  {
   "cell_type": "code",
   "execution_count": 9,
   "metadata": {},
   "outputs": [
    {
     "data": {
      "text/plain": [
       "(6, 28)"
      ]
     },
     "execution_count": 9,
     "metadata": {},
     "output_type": "execute_result"
    }
   ],
   "source": [
    "sum_divisors(6), sum_divisors(28)"
   ]
  },
  {
   "cell_type": "code",
   "execution_count": 13,
   "metadata": {},
   "outputs": [],
   "source": [
    "def sum_divisors(num):\n",
    "    return sum([i for i in range(num) if num % i == 0])"
   ]
  },
  {
   "cell_type": "code",
   "execution_count": 11,
   "metadata": {},
   "outputs": [
    {
     "name": "stdout",
     "output_type": "stream",
     "text": [
      "6\n",
      "28\n",
      "496\n",
      "8128\n"
     ]
    }
   ],
   "source": [
    "for i in range(2, 10001):\n",
    "    if i == sum_divisors(i):\n",
    "        print(i)"
   ]
  },
  {
   "cell_type": "markdown",
   "metadata": {},
   "source": [
    "#### Q2. 대칭수(Palindrome)\n",
    "- 세자리 수 두개를 곱해서 만든 가장 큰 대칭수는?"
   ]
  },
  {
   "cell_type": "code",
   "execution_count": 33,
   "metadata": {},
   "outputs": [],
   "source": [
    "def is_palindrome(s):\n",
    "    return s == s[::-1]"
   ]
  },
  {
   "cell_type": "code",
   "execution_count": 34,
   "metadata": {},
   "outputs": [
    {
     "data": {
      "text/plain": [
       "(True, True, True)"
      ]
     },
     "execution_count": 34,
     "metadata": {},
     "output_type": "execute_result"
    }
   ],
   "source": [
    "is_palindrome('우영우'), is_palindrome('기러기'), is_palindrome('토마토')"
   ]
  },
  {
   "cell_type": "code",
   "execution_count": 35,
   "metadata": {},
   "outputs": [],
   "source": [
    "def is_palindrome_num(num):\n",
    "    return str(num) == str(num)[::-1]"
   ]
  },
  {
   "cell_type": "code",
   "execution_count": 36,
   "metadata": {},
   "outputs": [
    {
     "data": {
      "text/plain": [
       "True"
      ]
     },
     "execution_count": 36,
     "metadata": {},
     "output_type": "execute_result"
    }
   ],
   "source": [
    "is_palindrome_num(91219)"
   ]
  },
  {
   "cell_type": "markdown",
   "metadata": {},
   "source": [
    "최대값"
   ]
  },
  {
   "cell_type": "code",
   "execution_count": 37,
   "metadata": {},
   "outputs": [
    {
     "data": {
      "text/plain": [
       "89"
      ]
     },
     "execution_count": 37,
     "metadata": {},
     "output_type": "execute_result"
    }
   ],
   "source": [
    "num_list = [23, 45, 12, 89, 47]\n",
    "max_num = 0\n",
    "for i in num_list:\n",
    "    if i > max_num:\n",
    "        max_num = i\n",
    "max_num"
   ]
  },
  {
   "cell_type": "code",
   "execution_count": 38,
   "metadata": {},
   "outputs": [
    {
     "data": {
      "text/plain": [
       "0"
      ]
     },
     "execution_count": 38,
     "metadata": {},
     "output_type": "execute_result"
    }
   ],
   "source": [
    "max_pal = 0\n",
    "for i in range(100,1000):\n",
    "    for k in range(i, 1000):\n",
    "        palindrom = i * k\n",
    "        if str(pal) == str(pal)[::-1]:\n",
    "            if i * k > max_pal:\n",
    "                max_pal = palindrom\n",
    "max_pal\n",
    "    "
   ]
  },
  {
   "cell_type": "code",
   "execution_count": 39,
   "metadata": {},
   "outputs": [
    {
     "data": {
      "text/plain": [
       "906609"
      ]
     },
     "execution_count": 39,
     "metadata": {},
     "output_type": "execute_result"
    }
   ],
   "source": [
    "# 대칭수를 리스트에 담고, 리스트에서 최대값을 구하기\n",
    "pal_list = []\n",
    "for i in range(100, 1000):\n",
    "    for k in range(i, 1000):\n",
    "        if is_palindrome_num(i*k):\n",
    "            pal_list.append(i*k)\n",
    "max(pal_list)"
   ]
  },
  {
   "cell_type": "code",
   "execution_count": 40,
   "metadata": {},
   "outputs": [
    {
     "name": "stdout",
     "output_type": "stream",
     "text": [
      "913 X 993 = 906609\n"
     ]
    }
   ],
   "source": [
    "# max_pal, max_i, max_k 구하기\n",
    "max_pal, max_i, max_k = 0, 0, 0\n",
    "for i in range(100, 1000):\n",
    "    for k in range(i, 1000):\n",
    "        if is_palindrome_num(i*k):\n",
    "            if i*k > max_pal:\n",
    "                max_pal, max_i, max_k = i * k, i, k\n",
    "print(f'{max_i} X {max_k} = {max_pal}')"
   ]
  },
  {
   "cell_type": "code",
   "execution_count": null,
   "metadata": {},
   "outputs": [],
   "source": []
  }
 ],
 "metadata": {
  "kernelspec": {
   "display_name": "base",
   "language": "python",
   "name": "python3"
  },
  "language_info": {
   "codemirror_mode": {
    "name": "ipython",
    "version": 3
   },
   "file_extension": ".py",
   "mimetype": "text/x-python",
   "name": "python",
   "nbconvert_exporter": "python",
   "pygments_lexer": "ipython3",
   "version": "3.11.4"
  },
  "orig_nbformat": 4
 },
 "nbformat": 4,
 "nbformat_minor": 2
}
