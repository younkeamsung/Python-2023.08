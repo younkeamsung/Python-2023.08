{
 "cells": [
  {
   "cell_type": "markdown",
   "metadata": {},
   "source": [
    "class Account(계좌)를 만드세요.\n",
    "- 1.속성값:\n",
    "    - 계좌번호(ano), 소유주(owner), 잔액(balance)\n",
    "    - 단, 잔액은 0원 이상이고 10,000,000원 이하이어야 한다.\n",
    "- 2.deposit method\n",
    "    - amount를 매개변수로 받아 balance에 더해준다.\n",
    "    - 잔액은 10,000,000원을 초과할 수 없다.\n",
    "- 3.withdraw method\n",
    "    - amount 만큼의 금액을 balance에서 차감한다.\n",
    "    - 잔액은 마이너스 금액이 될 수 없다.\n",
    "- 4.__str__method\n",
    "    - 계좌번호: 000, 소유주: 000, 잔액: 10자리의 천단위 구분기호가 있는 정수"
   ]
  },
  {
   "cell_type": "code",
   "execution_count": 84,
   "metadata": {},
   "outputs": [],
   "source": [
    "# 초기작업\n",
    "class Account:\n",
    "    def __init__(self, ano, owner, balance):\n",
    "        self.ano = ano\n",
    "        self.owner = owner\n",
    "        self.balance = 10000000 if balance >= 10000000 else \\\n",
    "                        0 if balance <= 0 else balance\n",
    "\n",
    "    def deposit(self, amount):\n",
    "        self.balance = 10000000 if (self.balance+amount) >= 10000000 \\\n",
    "                                    else self.balance + amount \n",
    "        print(f'{amount:,d}원을 입금하였고, 계좌잔액은{self.balance:,d}원입니다.')\n",
    "        if self.balance > 10000000:\n",
    "            print('error: 계좌 한도 초과!')\n",
    "\n",
    "    def withdraw(self, amount):\n",
    "        self.balance = 0 if (self.balance-amount) <= 0 \\\n",
    "                            else self.balance - amount\n",
    "        print(f'{amount:,d}원을 송금하였고, 계좌잔액은{self.balance:,d}원입니다.')\n",
    "        if self.balance < 0:\n",
    "            print('error: 계좌 잔액 부족!')\n",
    "\n",
    "    def __str__(self):\n",
    "        return f'계좌번호:{self.ano}, 소유주:{self.owner}, 잔액:{int(self.balance):,d}'\n"
   ]
  },
  {
   "cell_type": "code",
   "execution_count": 174,
   "metadata": {},
   "outputs": [],
   "source": [
    "# 개선작업(Refactoring)\n",
    "class Account:\n",
    "    def __init__(self, ano, owner, balance):\n",
    "        self.ano = ano\n",
    "        self.owner = owner\n",
    "        self.balance = 10000000 if balance >= 10000000 else \\\n",
    "                        0 if balance <= 0 else balance\n",
    "\n",
    "    def deposit(self, amount):\n",
    "        if (self.balance+amount) > 10000000:\n",
    "            print('error: 계좌 한도 초과!')\n",
    "        else:\n",
    "            self.balance = self.balance + amount \n",
    "            print(f'{self.owner}님의 계좌에{amount:,d}원을 입금하였고, 계좌잔액은{self.balance:,d}원입니다.')\n",
    "\n",
    "    def withdraw(self, amount):\n",
    "        if (self.balance-amount) < 0:\n",
    "            print('error: 계좌 잔액 부족!')\n",
    "        else:\n",
    "            self.balance = self.balance - amount\n",
    "            print(f'{self.owner}님의 계좌에서 {amount:,d}원을 송금하였고, 계좌잔액은{self.balance:,d}원입니다.')\n",
    "        \n",
    "\n",
    "    def __str__(self):\n",
    "        return f'계좌번호:{self.ano}, 소유주:{self.owner}, 잔액:{int(self.balance):,d}'"
   ]
  },
  {
   "cell_type": "code",
   "execution_count": null,
   "metadata": {},
   "outputs": [],
   "source": [
    "# 선생님 풀이\n",
    "class Account:\n",
    "    "
   ]
  },
  {
   "cell_type": "code",
   "execution_count": 175,
   "metadata": {},
   "outputs": [],
   "source": [
    "HGD = Account(123, '홍길동', 0)\n",
    "ASD = Account(34554542, '아무개', 200000)"
   ]
  },
  {
   "cell_type": "code",
   "execution_count": 176,
   "metadata": {},
   "outputs": [
    {
     "name": "stdout",
     "output_type": "stream",
     "text": [
      "계좌번호:123, 소유주:홍길동, 잔액:0\n",
      "계좌번호:34554542, 소유주:아무개, 잔액:200,000\n"
     ]
    }
   ],
   "source": [
    "print(HGD)\n",
    "print(ASD)"
   ]
  },
  {
   "cell_type": "code",
   "execution_count": 177,
   "metadata": {},
   "outputs": [
    {
     "name": "stdout",
     "output_type": "stream",
     "text": [
      "홍길동님의 계좌에10,000,000원을 입금하였고, 계좌잔액은10,000,000원입니다.\n"
     ]
    }
   ],
   "source": [
    "HGD.deposit(10000000)"
   ]
  },
  {
   "cell_type": "code",
   "execution_count": 178,
   "metadata": {},
   "outputs": [
    {
     "name": "stdout",
     "output_type": "stream",
     "text": [
      "홍길동님의 계좌에서 10,000,000원을 송금하였고, 계좌잔액은0원입니다.\n"
     ]
    }
   ],
   "source": [
    "HGD.withdraw(10000000)"
   ]
  },
  {
   "cell_type": "code",
   "execution_count": 134,
   "metadata": {},
   "outputs": [
    {
     "name": "stdout",
     "output_type": "stream",
     "text": [
      "계좌번호:123, 소유주:홍길동, 잔액:0\n"
     ]
    }
   ],
   "source": [
    "print(HGD)"
   ]
  },
  {
   "cell_type": "code",
   "execution_count": 142,
   "metadata": {},
   "outputs": [
    {
     "name": "stdout",
     "output_type": "stream",
     "text": [
      "3,000,000원을 입금하였고, 계좌잔액은5,000,000원입니다.\n",
      "3,000,000원을 입금하였고, 계좌잔액은8,000,000원입니다.\n",
      "error: 계좌 한도 초과!\n",
      "error: 계좌 한도 초과!\n",
      "error: 계좌 한도 초과!\n",
      "error: 계좌 한도 초과!\n",
      "error: 계좌 한도 초과!\n",
      "error: 계좌 한도 초과!\n",
      "error: 계좌 한도 초과!\n",
      "error: 계좌 한도 초과!\n"
     ]
    }
   ],
   "source": [
    "for _ in range(10):\n",
    "    HGD.deposit(3000000)"
   ]
  },
  {
   "cell_type": "code",
   "execution_count": 145,
   "metadata": {},
   "outputs": [
    {
     "name": "stdout",
     "output_type": "stream",
     "text": [
      "3,000,000원을 송금하였고, 계좌잔액은5,000,000원입니다.\n",
      "3,000,000원을 송금하였고, 계좌잔액은2,000,000원입니다.\n",
      "error: 계좌 잔액 부족!\n",
      "error: 계좌 잔액 부족!\n",
      "error: 계좌 잔액 부족!\n",
      "error: 계좌 잔액 부족!\n",
      "error: 계좌 잔액 부족!\n",
      "error: 계좌 잔액 부족!\n",
      "error: 계좌 잔액 부족!\n",
      "error: 계좌 잔액 부족!\n"
     ]
    }
   ],
   "source": [
    "for _ in range(10):\n",
    "    HGD.withdraw(3000000)"
   ]
  },
  {
   "cell_type": "code",
   "execution_count": 171,
   "metadata": {},
   "outputs": [
    {
     "name": "stdout",
     "output_type": "stream",
     "text": [
      "계좌번호:123, 소유주:홍길동, 잔액:250,000\n",
      "계좌번호:34554542, 소유주:아무개, 잔액:200,000\n"
     ]
    }
   ],
   "source": [
    "print(HGD)\n",
    "print(ASD)"
   ]
  },
  {
   "cell_type": "code",
   "execution_count": null,
   "metadata": {},
   "outputs": [],
   "source": []
  }
 ],
 "metadata": {
  "kernelspec": {
   "display_name": "base",
   "language": "python",
   "name": "python3"
  },
  "language_info": {
   "codemirror_mode": {
    "name": "ipython",
    "version": 3
   },
   "file_extension": ".py",
   "mimetype": "text/x-python",
   "name": "python",
   "nbconvert_exporter": "python",
   "pygments_lexer": "ipython3",
   "version": "3.11.4"
  },
  "orig_nbformat": 4
 },
 "nbformat": 4,
 "nbformat_minor": 2
}
